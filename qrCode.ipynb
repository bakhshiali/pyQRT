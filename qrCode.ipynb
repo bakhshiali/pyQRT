{
 "cells": [
  {
   "cell_type": "code",
   "execution_count": 1,
   "id": "3a9dedbf-ae65-4e89-8c9c-4bbd5c4f9b2c",
   "metadata": {},
   "outputs": [
    {
     "name": "stdout",
     "output_type": "stream",
     "text": [
      "[[0 0 0 0 0 0 0 0 0 0 0 0 0 0 0 0 0 0 0 0 0 0 0 0 0 0 0 0 0]\n",
      " [0 0 0 0 0 0 0 0 0 0 0 0 0 0 0 0 0 0 0 0 0 0 0 0 0 0 0 0 0]\n",
      " [0 0 0 0 0 0 0 0 0 0 0 0 0 0 0 0 0 0 0 0 0 0 0 0 0 0 0 0 0]\n",
      " [0 0 0 0 0 0 0 0 0 0 0 0 0 0 0 0 0 0 0 0 0 0 0 0 0 0 0 0 0]\n",
      " [0 0 0 0 1 1 1 1 1 1 1 0 1 1 1 1 0 0 1 1 1 1 1 1 1 0 0 0 0]\n",
      " [0 0 0 0 1 0 0 0 0 0 1 0 0 0 1 0 1 0 1 0 0 0 0 0 1 0 0 0 0]\n",
      " [0 0 0 0 1 0 1 1 1 0 1 0 0 1 0 1 0 0 1 0 1 1 1 0 1 0 0 0 0]\n",
      " [0 0 0 0 1 0 1 1 1 0 1 0 1 0 0 1 1 0 1 0 1 1 1 0 1 0 0 0 0]\n",
      " [0 0 0 0 1 0 1 1 1 0 1 0 0 0 1 0 0 0 1 0 1 1 1 0 1 0 0 0 0]\n",
      " [0 0 0 0 1 0 0 0 0 0 1 0 0 1 0 0 1 0 1 0 0 0 0 0 1 0 0 0 0]\n",
      " [0 0 0 0 1 1 1 1 1 1 1 0 1 0 1 0 1 0 1 1 1 1 1 1 1 0 0 0 0]\n",
      " [0 0 0 0 0 0 0 0 0 0 0 0 0 1 0 1 1 0 0 0 0 0 0 0 0 0 0 0 0]\n",
      " [0 0 0 0 0 0 1 0 1 1 1 0 1 1 0 1 0 1 0 0 0 1 0 0 1 0 0 0 0]\n",
      " [0 0 0 0 1 0 1 1 1 1 0 0 0 1 1 1 1 1 0 1 0 1 0 0 1 0 0 0 0]\n",
      " [0 0 0 0 0 1 1 1 1 1 1 0 1 1 1 0 0 1 0 1 0 0 1 0 0 0 0 0 0]\n",
      " [0 0 0 0 1 0 0 1 1 0 0 0 1 1 0 1 0 0 1 1 1 1 0 0 1 0 0 0 0]\n",
      " [0 0 0 0 1 1 1 1 1 1 1 0 0 1 1 0 1 0 1 1 0 0 1 1 1 0 0 0 0]\n",
      " [0 0 0 0 0 0 0 0 0 0 0 0 1 0 0 0 0 0 0 0 0 0 1 1 0 0 0 0 0]\n",
      " [0 0 0 0 1 1 1 1 1 1 1 0 0 0 1 1 1 1 0 0 1 0 0 1 0 0 0 0 0]\n",
      " [0 0 0 0 1 0 0 0 0 0 1 0 1 1 0 1 0 1 1 0 0 0 1 1 0 0 0 0 0]\n",
      " [0 0 0 0 1 0 1 1 1 0 1 0 1 0 1 1 0 0 0 0 1 0 1 0 1 0 0 0 0]\n",
      " [0 0 0 0 1 0 1 1 1 0 1 0 0 1 1 1 1 1 1 1 0 1 0 1 0 0 0 0 0]\n",
      " [0 0 0 0 1 0 1 1 1 0 1 0 1 1 1 0 1 0 0 1 0 1 1 0 1 0 0 0 0]\n",
      " [0 0 0 0 1 0 0 0 0 0 1 0 0 1 0 1 1 0 0 1 1 1 0 0 0 0 0 0 0]\n",
      " [0 0 0 0 1 1 1 1 1 1 1 0 0 0 0 1 1 0 1 1 0 1 1 0 1 0 0 0 0]\n",
      " [0 0 0 0 0 0 0 0 0 0 0 0 0 0 0 0 0 0 0 0 0 0 0 0 0 0 0 0 0]\n",
      " [0 0 0 0 0 0 0 0 0 0 0 0 0 0 0 0 0 0 0 0 0 0 0 0 0 0 0 0 0]\n",
      " [0 0 0 0 0 0 0 0 0 0 0 0 0 0 0 0 0 0 0 0 0 0 0 0 0 0 0 0 0]\n",
      " [0 0 0 0 0 0 0 0 0 0 0 0 0 0 0 0 0 0 0 0 0 0 0 0 0 0 0 0 0]]\n"
     ]
    },
    {
     "data": {
      "image/png": "[encoded data removed]",
      "text/plain": [
       "<Figure size 640x480 with 1 Axes>"
      ]
     },
     "metadata": {},
     "output_type": "display_data"
    }
   ],
   "source": [
    "import numpy as np\n",
    "import matplotlib.pyplot as plt\n",
    "import pyqrcode\n",
    "data_var=\"123\"\n",
    "qr = pyqrcode.create(str(data_var)).text()\n",
    "code=np.array([np.array([*i]) for i in qr.split(\"\\n\")][:-1]).astype(int)\n",
    "print(code)\n",
    "plt.axis(\"off\")\n",
    "plt.imshow(code,cmap=plt.get_cmap('gray'))\n",
    "plt.savefig(\"qrcode.png\",bbox_inches='tight')\n",
    "#plt.imshow(code)\n",
    "#plt.show()"
   ]
  },
  {
   "cell_type": "code",
   "execution_count": null,
   "id": "b0165fe2-a598-45d5-8a1e-134fe904ec5e",
   "metadata": {},
   "outputs": [],
   "source": []
  }
 ],
 "metadata": {
  "kernelspec": {
   "display_name": "Python 3 (ipykernel)",
   "language": "python",
   "name": "python3"
  },
  "language_info": {
   "codemirror_mode": {
    "name": "ipython",
    "version": 3
   },
   "file_extension": ".py",
   "mimetype": "text/x-python",
   "name": "python",
   "nbconvert_exporter": "python",
   "pygments_lexer": "ipython3",
   "version": "3.10.8"
  }
 },
 "nbformat": 4,
 "nbformat_minor": 5
}
